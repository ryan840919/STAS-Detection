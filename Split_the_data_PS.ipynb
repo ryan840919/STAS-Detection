{
  "nbformat": 4,
  "nbformat_minor": 0,
  "metadata": {
    "colab": {
      "name": "Split_the_data_PS.ipynb",
      "provenance": [],
      "authorship_tag": "ABX9TyPcsW7PuXp/DlF12JuGLbGa",
      "include_colab_link": true
    },
    "kernelspec": {
      "name": "python3",
      "display_name": "Python 3"
    },
    "language_info": {
      "name": "python"
    }
  },
  "cells": [
    {
      "cell_type": "markdown",
      "metadata": {
        "id": "view-in-github",
        "colab_type": "text"
      },
      "source": [
        "<a href=\"https://colab.research.google.com/github/ryan840919/STAS-Detection/blob/main/Split_the_data_PS.ipynb\" target=\"_parent\"><img src=\"https://colab.research.google.com/assets/colab-badge.svg\" alt=\"Open In Colab\"/></a>"
      ]
    },
    {
      "cell_type": "code",
      "execution_count": null,
      "metadata": {
        "id": "-_NfRa83XABG",
        "colab": {
          "base_uri": "https://localhost:8080/"
        },
        "outputId": "7d27e550-a596-4773-a3a8-eed5565ed886"
      },
      "outputs": [
        {
          "output_type": "stream",
          "name": "stdout",
          "text": [
            "Mounted at /content/gdrive\n"
          ]
        }
      ],
      "source": [
        "from google.colab import drive\n",
        "drive.mount('/content/gdrive')"
      ]
    },
    {
      "cell_type": "markdown",
      "source": [
        "# Split the data\n",
        "Split the images and label to train set and validation set by copy and move them to four different folders."
      ],
      "metadata": {
        "id": "brWawfw1DsCh"
      }
    },
    {
      "cell_type": "code",
      "source": [
        "import os\n",
        "import random\n",
        "import shutil\n",
        "\n",
        "numlist = [f'{i:08}' for i in range(1053)]\n",
        "random.shuffle(numlist)\n",
        "\n",
        "def copy_and_move(file,folder):\n",
        "  if not os.path.isdir(folder):\n",
        "    os.makedirs(folder,mode=0o777)\n",
        "  shutil.copy(file,folder)\n",
        "\n",
        "for i in numlist[:105]:\n",
        "  copy_and_move(f'/content/gdrive/MyDrive/AI競賽/data/Train_Images/{i}.jpg',\n",
        "          '/content/gdrive/MyDrive/AI競賽/data/STAS_YOLOv5_PS/images/val')\n",
        "  copy_and_move(f'/content/gdrive/MyDrive/AI競賽/data/Train_Annotations/{i}.xml',\n",
        "          '/content/gdrive/MyDrive/AI競賽/data/STAS_YOLOv5_PS/labels/val')\n",
        "for i in numlist[105:]:\n",
        "  copy_and_move(f'/content/gdrive/MyDrive/AI競賽/data/Train_Images/{i}.jpg',\n",
        "          '/content/gdrive/MyDrive/AI競賽/data/STAS_YOLOv5_PS/images/train')\n",
        "  copy_and_move(f'/content/gdrive/MyDrive/AI競賽/data/Train_Annotations/{i}.xml',\n",
        "          '/content/gdrive/MyDrive/AI競賽/data/STAS_YOLOv5_PS/labels/train')"
      ],
      "metadata": {
        "id": "rLSKUmOKadOg"
      },
      "execution_count": null,
      "outputs": []
    },
    {
      "cell_type": "code",
      "source": [
        "import os"
      ],
      "metadata": {
        "id": "s4O-WFPGGd_4"
      },
      "execution_count": null,
      "outputs": []
    },
    {
      "cell_type": "code",
      "source": [
        "print(len(os.listdir('/content/gdrive/MyDrive/AI競賽/data/STAS_YOLOv5_PS/images/val')))\n",
        "print(len(os.listdir('/content/gdrive/MyDrive/AI競賽/data/STAS_YOLOv5_PS/images/train')))\n",
        "print(len(os.listdir('/content/gdrive/MyDrive/AI競賽/data/STAS_YOLOv5_PS/labels/val')))\n",
        "print(len(os.listdir('/content/gdrive/MyDrive/AI競賽/data/STAS_YOLOv5_PS/labels/train')))"
      ],
      "metadata": {
        "id": "lO0mVF7lbH20",
        "colab": {
          "base_uri": "https://localhost:8080/"
        },
        "outputId": "9d97d0c4-d522-43e7-8cc2-4f49c2d6c1b7"
      },
      "execution_count": null,
      "outputs": [
        {
          "output_type": "stream",
          "name": "stdout",
          "text": [
            "105\n",
            "948\n",
            "210\n",
            "1896\n"
          ]
        }
      ]
    },
    {
      "cell_type": "markdown",
      "source": [
        "# Split for Color Deconvolution"
      ],
      "metadata": {
        "id": "_Y36PK19AB7b"
      }
    },
    {
      "cell_type": "code",
      "source": [
        "import os\n",
        "import random\n",
        "import shutil\n",
        "\n",
        "numlist = [f'{i:08}' for i in range(1053)]\n",
        "random.shuffle(numlist)\n",
        "\n",
        "def copy_and_move(file,folder):\n",
        "  if not os.path.isdir(folder):\n",
        "    os.makedirs(folder,mode=0o777)\n",
        "  shutil.copy(file,folder)\n",
        "\n",
        "for i in numlist[:105]:\n",
        "  copy_and_move(f'/content/gdrive/MyDrive/AI競賽/data/Train_Images_G/{i}.jpg',\n",
        "          '/content/gdrive/MyDrive/AI競賽/data/Train_Images_G_Split/images/val')\n",
        "  copy_and_move(f'/content/gdrive/MyDrive/AI競賽/data/Train_Annotations_txt/{i}.txt',\n",
        "          '/content/gdrive/MyDrive/AI競賽/data/Train_Images_G_Split/labels/val')\n",
        "for i in numlist[105:]:\n",
        "  copy_and_move(f'/content/gdrive/MyDrive/AI競賽/data/Train_Images_G/{i}.jpg',\n",
        "          '/content/gdrive/MyDrive/AI競賽/data/Train_Images_G_Split/images/train')\n",
        "  copy_and_move(f'/content/gdrive/MyDrive/AI競賽/data/Train_Annotations_txt/{i}.txt',\n",
        "          '/content/gdrive/MyDrive/AI競賽/data/Train_Images_G_Split/labels/train')"
      ],
      "metadata": {
        "id": "23trLU9y-t57"
      },
      "execution_count": null,
      "outputs": []
    },
    {
      "cell_type": "code",
      "source": [
        "print(len(os.listdir('/content/gdrive/MyDrive/AI競賽/data/Train_Images_G_Split/images/val')))\n",
        "print(len(os.listdir('/content/gdrive/MyDrive/AI競賽/data/Train_Images_G_Split/images/train')))\n",
        "print(len(os.listdir('/content/gdrive/MyDrive/AI競賽/data/Train_Images_G_Split/labels/val')))\n",
        "print(len(os.listdir('/content/gdrive/MyDrive/AI競賽/data/Train_Images_G_Split/labels/train')))"
      ],
      "metadata": {
        "colab": {
          "base_uri": "https://localhost:8080/"
        },
        "id": "BaUDUYqxBtMT",
        "outputId": "20e1fa59-95a4-47c2-e69a-7db39f5cdd6a"
      },
      "execution_count": null,
      "outputs": [
        {
          "output_type": "stream",
          "name": "stdout",
          "text": [
            "105\n",
            "948\n",
            "105\n",
            "948\n"
          ]
        }
      ]
    },
    {
      "cell_type": "markdown",
      "source": [
        "# Convert xml to txt\n",
        "Convert \"labels.xml\" to \"labels.txt\" by writing the 'bndbox' element in xml file into the txt file so the target labels can be used by the yolov5. Notice that the label form in txt in different froim the form in xml."
      ],
      "metadata": {
        "id": "RyB5y07UUe_0"
      }
    },
    {
      "cell_type": "code",
      "source": [
        "import os\n",
        "import xml.etree.ElementTree as ET\n",
        "\n",
        "for move in 'train','val':\n",
        "  for fil in os.listdir(f'/content/gdrive/MyDrive/AI競賽/data/STAS_YOLOv5_PS/labels/{move}'):\n",
        "    filnum = fil.split('.')[0]\n",
        "    with open(f'/content/gdrive/MyDrive/AI競賽/data/STAS_YOLOv5_PS/labels/{move}/{filnum}.txt','w') as f:\n",
        "      tree = ET.parse(f'/content/gdrive/MyDrive/AI競賽/data/STAS_YOLOv5_PS/labels/{move}/{fil}')\n",
        "      root = tree.getroot()\n",
        "      objsize = root.find('size')\n",
        "      wid = int(objsize.find('width').text)\n",
        "      hei = int(objsize.find('height').text)\n",
        "      for obj in root.iter('object'):\n",
        "        clsnum = 0\n",
        "        objbox = obj.find('bndbox')\n",
        "        xmin = int(objbox.find('xmin').text)\n",
        "        ymin = int(objbox.find('ymin').text)\n",
        "        xmax = int(objbox.find('xmax').text)\n",
        "        ymax = int(objbox.find('ymax').text)\n",
        "        xcen = (xmin+xmax)/2\n",
        "        ycen = (ymin+ymax)/2\n",
        "        xwid = xmax-xmin\n",
        "        yhei = ymax-ymin\n",
        "        f.write(f'{clsnum} {round(xcen/wid,6)} {round(ycen/hei,6)} {round(xwid/wid,6)} {round(yhei/hei,6)}\\n')"
      ],
      "metadata": {
        "id": "1jDrUuDQ0W14"
      },
      "execution_count": null,
      "outputs": []
    },
    {
      "cell_type": "markdown",
      "source": [
        "# Convert xml to txt for the whole train annotations"
      ],
      "metadata": {
        "id": "r0c04Fxwzxb6"
      }
    },
    {
      "cell_type": "code",
      "source": [
        "import os\n",
        "import xml.etree.ElementTree as ET\n",
        "\n",
        "for fil in os.listdir(f'/content/gdrive/MyDrive/AI競賽/data/Train_Annotations'):\n",
        "  filnum = fil.split('.')[0]\n",
        "  with open(f'/content/gdrive/MyDrive/AI競賽/data/Train_Annotations_txt/{filnum}.txt','w') as f:\n",
        "    tree = ET.parse(f'/content/gdrive/MyDrive/AI競賽/data/Train_Annotations/{fil}')\n",
        "    root = tree.getroot()\n",
        "    objsize = root.find('size')\n",
        "    wid = int(objsize.find('width').text)\n",
        "    hei = int(objsize.find('height').text)\n",
        "    for obj in root.iter('object'):\n",
        "      clsnum = 0\n",
        "      objbox = obj.find('bndbox')\n",
        "      xmin = int(objbox.find('xmin').text)\n",
        "      ymin = int(objbox.find('ymin').text)\n",
        "      xmax = int(objbox.find('xmax').text)\n",
        "      ymax = int(objbox.find('ymax').text)\n",
        "      xcen = (xmin+xmax)/2\n",
        "      ycen = (ymin+ymax)/2\n",
        "      xwid = xmax-xmin\n",
        "      yhei = ymax-ymin\n",
        "      f.write(f'{clsnum} {round(xcen/wid,6)} {round(ycen/hei,6)} {round(xwid/wid,6)} {round(yhei/hei,6)}\\n')"
      ],
      "metadata": {
        "id": "z6gdNUKvzwoi"
      },
      "execution_count": null,
      "outputs": []
    },
    {
      "cell_type": "code",
      "source": [
        "print(len(os.listdir('/content/gdrive/MyDrive/AI競賽/data/Train_Annotations_txt')))"
      ],
      "metadata": {
        "colab": {
          "base_uri": "https://localhost:8080/"
        },
        "id": "2-6_h97_12ux",
        "outputId": "b5bb57a0-0b4f-4e73-f16e-31f7f59bdb34"
      },
      "execution_count": null,
      "outputs": [
        {
          "output_type": "stream",
          "name": "stdout",
          "text": [
            "1053\n"
          ]
        }
      ]
    },
    {
      "cell_type": "code",
      "source": [
        ""
      ],
      "metadata": {
        "id": "RATqPkjE19xi"
      },
      "execution_count": null,
      "outputs": []
    }
  ]
}