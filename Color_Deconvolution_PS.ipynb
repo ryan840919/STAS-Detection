{
  "nbformat": 4,
  "nbformat_minor": 0,
  "metadata": {
    "colab": {
      "name": "Color_Deconvolution_PS.ipynb",
      "provenance": [],
      "authorship_tag": "ABX9TyMe8bDNJb27lNeN1IMHarfn",
      "include_colab_link": true
    },
    "kernelspec": {
      "name": "python3",
      "display_name": "Python 3"
    },
    "language_info": {
      "name": "python"
    }
  },
  "cells": [
    {
      "cell_type": "markdown",
      "metadata": {
        "id": "view-in-github",
        "colab_type": "text"
      },
      "source": [
        "<a href=\"https://colab.research.google.com/github/ryan840919/STAS-Detection/blob/main/Color_Deconvolution_PS.ipynb\" target=\"_parent\"><img src=\"https://colab.research.google.com/assets/colab-badge.svg\" alt=\"Open In Colab\"/></a>"
      ]
    },
    {
      "cell_type": "code",
      "execution_count": null,
      "metadata": {
        "colab": {
          "base_uri": "https://localhost:8080/"
        },
        "id": "oEot5gXJF8-D",
        "outputId": "10a174aa-6cd5-448d-d0f0-2efb4fb7967d"
      },
      "outputs": [
        {
          "output_type": "stream",
          "name": "stdout",
          "text": [
            "Mounted at /content/gdrive\n"
          ]
        }
      ],
      "source": [
        "from google.colab import drive\n",
        "drive.mount('/content/gdrive')"
      ]
    },
    {
      "cell_type": "markdown",
      "source": [
        "# RGB Deconvolution\n",
        "First ceconvoulte the image to GRB deconvolution."
      ],
      "metadata": {
        "id": "aWS4E2WBwD1W"
      }
    },
    {
      "cell_type": "code",
      "source": [
        "import cv2\n",
        "from google.colab.patches import cv2_imshow\n",
        "\n",
        "numlist = [f'{i:08}' for i in range(1053)]\n",
        "for i in numlist:\n",
        "  img = cv2.imread(f'/content/gdrive/MyDrive/AI競賽/data/Train_Images/{i}.jpg')\n",
        "  B,G,R = cv2.split(img)\n",
        "  cv2.imwrite(f'/content/gdrive/MyDrive/AI競賽/data/Train_Images_B/{i}.jpg',B)\n",
        "  cv2.imwrite(f'/content/gdrive/MyDrive/AI競賽/data/Train_Images_G/{i}.jpg',G)\n",
        "  cv2.imwrite(f'/content/gdrive/MyDrive/AI競賽/data/Train_Images_R/{i}.jpg',R)"
      ],
      "metadata": {
        "id": "DbZJbzknGPph"
      },
      "execution_count": null,
      "outputs": []
    },
    {
      "cell_type": "code",
      "source": [
        "import os\n",
        "print(len(os.listdir('/content/gdrive/MyDrive/AI競賽/data/Train_Images_B')))\n",
        "print(len(os.listdir('/content/gdrive/MyDrive/AI競賽/data/Train_Images_G')))\n",
        "print(len(os.listdir('/content/gdrive/MyDrive/AI競賽/data/Train_Images_R')))"
      ],
      "metadata": {
        "id": "eq8i7dmzHSCr",
        "colab": {
          "base_uri": "https://localhost:8080/"
        },
        "outputId": "1cbe57c7-16e8-472c-9453-2fc73106060c"
      },
      "execution_count": null,
      "outputs": [
        {
          "output_type": "stream",
          "name": "stdout",
          "text": [
            "1053\n",
            "1053\n",
            "1053\n"
          ]
        }
      ]
    },
    {
      "cell_type": "markdown",
      "source": [
        "# HistomickTK's color deconvolution"
      ],
      "metadata": {
        "id": "3XpJgWG2wwgV"
      }
    },
    {
      "cell_type": "code",
      "source": [
        "pip install histomicstk --find-links https://girder.github.io/large_image_wheels"
      ],
      "metadata": {
        "id": "fE5WxTnDtMMa"
      },
      "execution_count": null,
      "outputs": []
    },
    {
      "cell_type": "code",
      "source": [
        "pip uninstall opencv-python-headless==4.5.5.62"
      ],
      "metadata": {
        "id": "o9ZHsgc9_uhe"
      },
      "execution_count": null,
      "outputs": []
    },
    {
      "cell_type": "code",
      "source": [
        "pip install opencv-python-headless==4.5.2.52"
      ],
      "metadata": {
        "id": "o21dcAU7ADNJ"
      },
      "execution_count": null,
      "outputs": []
    },
    {
      "cell_type": "code",
      "source": [
        "import histomicstk as htk\n",
        "import numpy as np\n",
        "import cv2\n",
        "from google.colab.patches import cv2_imshow\n",
        "\n",
        "# heimg = cv2.imread('/content/gdrive/MyDrive/AI競賽/data/Train_Images/00000001.jpg')\n",
        "\n",
        "#create stain to color map\n",
        "stain_color_map = htk.preprocessing.color_deconvolution.stain_color_map\n",
        "\n",
        "#specify stains of input image\n",
        "stains = ['hematoxylin', #nuclei stain\n",
        "      'eosin',    #cytoplasm stain\n",
        "      'null']     #set to null if input contains only two stains\n",
        "\n",
        "#create stain matrix\n",
        "W = np.array([stain_color_map[st] for st in stains]).T\n",
        "\n",
        "#perform standard color deconvolution\n",
        "# imDeconvoled = htk.preprocessing.color_deconvolution.color_deconvolution(heimg, W)\n",
        "\n",
        "# #show image\n",
        "# for i in 0,1:\n",
        "#   cv2_imshow(imDeconvoled.Stains[:,:,i])\n",
        "\n",
        "henumlist = [f'{i:08}' for i in range(1053)]\n",
        "\n",
        "for i in henumlist:\n",
        "  heimg = cv2.imread(f'/content/gdrive/MyDrive/AI競賽/data/Train_Images/{i}.jpg')\n",
        "  imDeconvoled = htk.preprocessing.color_deconvolution.color_deconvolution(heimg, W)\n",
        "  cv2.imwrite(f'/content/gdrive/MyDrive/AI競賽/data/Train_Images_Hemotaxylin/{i}.jpg',imDeconvoled.Stains[:,:,0])\n",
        "  cv2.imwrite(f'/content/gdrive/MyDrive/AI競賽/data/Train_images_Eosin/{i}.jpg',imDeconvoled.Stains[:,:,1])\n"
      ],
      "metadata": {
        "id": "Ko-B2rFNB_42"
      },
      "execution_count": null,
      "outputs": []
    },
    {
      "cell_type": "code",
      "source": [
        "import os\n",
        "print(len(os.listdir('/content/gdrive/MyDrive/AI競賽/data/Train_Images_Hemotaxylin')))\n",
        "print(len(os.listdir('/content/gdrive/MyDrive/AI競賽/data/Train_images_Eosin')))"
      ],
      "metadata": {
        "colab": {
          "base_uri": "https://localhost:8080/"
        },
        "id": "EqlyEa_4s0i9",
        "outputId": "9286c784-55e8-4ea0-f7ae-142aebbde43c"
      },
      "execution_count": null,
      "outputs": [
        {
          "output_type": "stream",
          "name": "stdout",
          "text": [
            "1053\n",
            "1053\n"
          ]
        }
      ]
    },
    {
      "cell_type": "code",
      "source": [
        ""
      ],
      "metadata": {
        "id": "jDJKFSPjIug2"
      },
      "execution_count": null,
      "outputs": []
    }
  ]
}