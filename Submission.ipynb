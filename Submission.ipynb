{
  "nbformat": 4,
  "nbformat_minor": 0,
  "metadata": {
    "colab": {
      "name": "Submission.ipynb",
      "provenance": [],
      "authorship_tag": "ABX9TyPARtvzb9sj8tFzzLPRUxFD",
      "include_colab_link": true
    },
    "kernelspec": {
      "name": "python3",
      "display_name": "Python 3"
    },
    "language_info": {
      "name": "python"
    }
  },
  "cells": [
    {
      "cell_type": "markdown",
      "metadata": {
        "id": "view-in-github",
        "colab_type": "text"
      },
      "source": [
        "<a href=\"https://colab.research.google.com/github/ryan840919/STAS-Detection/blob/main/Submission.ipynb\" target=\"_parent\"><img src=\"https://colab.research.google.com/assets/colab-badge.svg\" alt=\"Open In Colab\"/></a>"
      ]
    },
    {
      "cell_type": "code",
      "execution_count": 52,
      "metadata": {
        "colab": {
          "base_uri": "https://localhost:8080/"
        },
        "id": "CvA0k7NeGOb-",
        "outputId": "e9b6cc17-3137-43be-8b8b-cc6bbf27eb14"
      },
      "outputs": [
        {
          "output_type": "stream",
          "name": "stdout",
          "text": [
            "Drive already mounted at /content/gdrive; to attempt to forcibly remount, call drive.mount(\"/content/gdrive\", force_remount=True).\n"
          ]
        }
      ],
      "source": [
        "from google.colab import drive\n",
        "drive.mount('/content/gdrive')"
      ]
    },
    {
      "cell_type": "code",
      "source": [
        "import json\n",
        "import os"
      ],
      "metadata": {
        "id": "a8bmfl-PLcMb"
      },
      "execution_count": 53,
      "outputs": []
    },
    {
      "cell_type": "code",
      "source": [
        "def js(test_name):\n",
        "  files = os.listdir(f'/content/gdrive/MyDrive/AI競賽_運算/yolov5/yolov5/runs/detect/{test_name}/labels')\n",
        "  # numlist = [int(fil.split('.')[0].split('_')[1]) for fil in files]\n",
        "  d = {}\n",
        "  for fil in files:\n",
        "    lablist = []\n",
        "    with open(f'/content/gdrive/MyDrive/AI競賽_運算/yolov5/yolov5/runs/detect/{test_name}/labels/{fil}') as r:\n",
        "      for line in r.readlines():\n",
        "        word = line.split(' ')\n",
        "        xmin = round(float(word[1])*1716-float(word[3])*1716/2)\n",
        "        ymin = round(float(word[2])*942-float(word[4])*942/2)\n",
        "        xmax = round(float(word[1])*1716+float(word[3])*1716/2)\n",
        "        ymax = round(float(word[2])*942+float(word[4])*942/2)\n",
        "        score = round(float(word[5]),5)\n",
        "        cor = [xmin,ymin,xmax,ymax,score]\n",
        "        lablist.append(cor)\n",
        "    d[f\"{fil[:-3]}jpg\"] = lablist\n",
        "  with open(f'/content/gdrive/MyDrive/AI競賽_運算/data/detect_result/{test_name}.json','w') as j:\n",
        "    json.dump(d,j)    "
      ],
      "metadata": {
        "id": "OSmrTzzfGSNm"
      },
      "execution_count": 56,
      "outputs": []
    },
    {
      "cell_type": "code",
      "source": [
        "js('test_for_label')"
      ],
      "metadata": {
        "id": "y8vGqKbcX_N5"
      },
      "execution_count": 57,
      "outputs": []
    },
    {
      "cell_type": "code",
      "source": [
        ""
      ],
      "metadata": {
        "id": "FgZXoAln1UjC"
      },
      "execution_count": null,
      "outputs": []
    }
  ]
}