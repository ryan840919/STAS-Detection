{
  "nbformat": 4,
  "nbformat_minor": 0,
  "metadata": {
    "colab": {
      "name": "argumentation.ipynb",
      "provenance": [],
      "authorship_tag": "ABX9TyOWNTb1SWcjh8RO4C3hqa0e",
      "include_colab_link": true
    },
    "kernelspec": {
      "name": "python3",
      "display_name": "Python 3"
    },
    "language_info": {
      "name": "python"
    },
    "accelerator": "GPU"
  },
  "cells": [
    {
      "cell_type": "markdown",
      "metadata": {
        "id": "view-in-github",
        "colab_type": "text"
      },
      "source": [
        "<a href=\"https://colab.research.google.com/github/ryan840919/STAS-Detection/blob/main/argumentation.ipynb\" target=\"_parent\"><img src=\"https://colab.research.google.com/assets/colab-badge.svg\" alt=\"Open In Colab\"/></a>"
      ]
    },
    {
      "cell_type": "code",
      "execution_count": null,
      "metadata": {
        "colab": {
          "base_uri": "https://localhost:8080/"
        },
        "id": "2BWDCW862aup",
        "outputId": "dcea0e8d-7a80-4a3c-b0d5-aeba63b2d0ef"
      },
      "outputs": [
        {
          "output_type": "stream",
          "name": "stdout",
          "text": [
            "Drive already mounted at /content/gdrive; to attempt to forcibly remount, call drive.mount(\"/content/gdrive\", force_remount=True).\n"
          ]
        }
      ],
      "source": [
        "from google.colab import drive\n",
        "drive.mount('/content/gdrive')"
      ]
    },
    {
      "cell_type": "markdown",
      "source": [
        "# Argumentation\n",
        "Use the \"Albumentation\" to argumentate the image in different move."
      ],
      "metadata": {
        "id": "8fJ9ePfJao29"
      }
    },
    {
      "cell_type": "code",
      "source": [
        "pip install --upgrade albumentations"
      ],
      "metadata": {
        "id": "1x9AsVYidF8k"
      },
      "execution_count": null,
      "outputs": []
    },
    {
      "cell_type": "code",
      "source": [
        "pip uninstall opencv-python-headless===4.5.5.62"
      ],
      "metadata": {
        "id": "tS-gNtxddf2j"
      },
      "execution_count": null,
      "outputs": []
    },
    {
      "cell_type": "code",
      "source": [
        "pip install opencv-python-headless===4.5.2.52"
      ],
      "metadata": {
        "id": "-BoLw4-gdsGa"
      },
      "execution_count": null,
      "outputs": []
    },
    {
      "cell_type": "markdown",
      "source": [
        "## HorizontalFlip"
      ],
      "metadata": {
        "id": "i5FhTOFr4Wh3"
      }
    },
    {
      "cell_type": "code",
      "source": [
        "import cv2\n",
        "from google.colab.patches import cv2_imshow\n",
        "import albumentations as A\n",
        "\n",
        "numlist = [f'{i:08}' for i in range(1053)]\n",
        "\n",
        "for num in numlist:\n",
        "  #read and ready for the bonding box\n",
        "  with open(f'/content/gdrive/MyDrive/AI競賽/data/Train_Annotations_txt/{num}.txt','r') as R:\n",
        "    corbox = []\n",
        "    for line in R.readlines():\n",
        "      words = line.split(' ')\n",
        "      cor = []\n",
        "      for i in range(1,5):\n",
        "        cor.append(float(words[i].strip('\\n')))\n",
        "      cor.append(int(words[0]))\n",
        "      corbox.append(cor)\n",
        "\n",
        "  #read the image\n",
        "  img = cv2.imread(f'/content/gdrive/MyDrive/AI競賽/data/Train_Images/{num}.jpg')\n",
        "\n",
        "  #argumentating the image and the label\n",
        "  transform = A.Compose([\n",
        "    A.HorizontalFlip(p=1)\n",
        "  ],bbox_params=A.BboxParams(format='yolo'))\n",
        "  transformed = transform(image=img,bboxes=corbox)\n",
        "  trimg = transformed['image']\n",
        "  trbox = transformed['bboxes']\n",
        "\n",
        "  #save the image\n",
        "  cv2.imwrite(f'/content/gdrive/MyDrive/AI競賽/data/Train_Images_Horflip/horflip_{num}.jpg',trimg)\n",
        "\n",
        "  #save the label in txt\n",
        "  with open(f'/content/gdrive/MyDrive/AI競賽/data/Annotations/Horflip/horflip_{num}.txt','w') as W:\n",
        "    for trc in trbox:\n",
        "      W.write(f'{trc[4]} {round(trc[0],6)} {round(trc[1],6)} {round(trc[2],6)} {round(trc[3],6)}\\n')"
      ],
      "metadata": {
        "id": "8u59g3md2vD1"
      },
      "execution_count": null,
      "outputs": []
    },
    {
      "cell_type": "code",
      "source": [
        "import os\n",
        "print(len(os.listdir('/content/gdrive/MyDrive/AI競賽/data/Train_Images_Horflip')))\n",
        "print(len(os.listdir('/content/gdrive/MyDrive/AI競賽/data/Annotations/Horflip')))"
      ],
      "metadata": {
        "id": "azHksKiivX8Q",
        "colab": {
          "base_uri": "https://localhost:8080/"
        },
        "outputId": "f4378028-5758-4996-f79c-aed88fc8bcc6"
      },
      "execution_count": null,
      "outputs": [
        {
          "output_type": "stream",
          "name": "stdout",
          "text": [
            "1053\n",
            "1053\n"
          ]
        }
      ]
    },
    {
      "cell_type": "code",
      "source": [
        ""
      ],
      "metadata": {
        "id": "bM8CKcE68gp0"
      },
      "execution_count": null,
      "outputs": []
    }
  ]
}