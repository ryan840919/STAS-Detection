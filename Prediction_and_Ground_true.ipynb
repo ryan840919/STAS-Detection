{
  "nbformat": 4,
  "nbformat_minor": 0,
  "metadata": {
    "colab": {
      "name": "Prediction_and_Ground_true.ipynb",
      "provenance": [],
      "authorship_tag": "ABX9TyN33bGw8oA4OOBIYJ53RUpx",
      "include_colab_link": true
    },
    "kernelspec": {
      "name": "python3",
      "display_name": "Python 3"
    },
    "language_info": {
      "name": "python"
    }
  },
  "cells": [
    {
      "cell_type": "markdown",
      "metadata": {
        "id": "view-in-github",
        "colab_type": "text"
      },
      "source": [
        "<a href=\"https://colab.research.google.com/github/ryan840919/STAS-Detection/blob/main/Prediction_and_Ground_true.ipynb\" target=\"_parent\"><img src=\"https://colab.research.google.com/assets/colab-badge.svg\" alt=\"Open In Colab\"/></a>"
      ]
    },
    {
      "cell_type": "code",
      "execution_count": null,
      "metadata": {
        "colab": {
          "base_uri": "https://localhost:8080/"
        },
        "id": "M1vPnuNNbUEK",
        "outputId": "2316bc3e-9469-4384-fac9-8ec078eb3b54"
      },
      "outputs": [
        {
          "output_type": "stream",
          "name": "stdout",
          "text": [
            "Mounted at /content/gdrive\n"
          ]
        }
      ],
      "source": [
        "from google.colab import drive\n",
        "drive.mount('/content/gdrive')"
      ]
    },
    {
      "cell_type": "code",
      "source": [
        "import os\n",
        "filename = os.listdir('/content/gdrive/MyDrive/AI競賽_運算/data/STAS_YOLOv5_PS/images/val')\n",
        "numlist = []\n",
        "for fil in filename:\n",
        "  name = fil.split('.')\n",
        "  numlist.append(int(name[0]))\n",
        "print(numlist)"
      ],
      "metadata": {
        "colab": {
          "base_uri": "https://localhost:8080/"
        },
        "id": "ApgzdM48eOI8",
        "outputId": "f6134753-fdeb-4421-9bca-1c90bcb86bfe"
      },
      "execution_count": null,
      "outputs": [
        {
          "output_type": "stream",
          "name": "stdout",
          "text": [
            "[288, 275, 439, 229, 847, 571, 737, 998, 164, 242, 983, 482, 2, 872, 216, 889, 616, 719, 72, 177, 253, 319, 430, 487, 386, 984, 987, 360, 305, 768, 140, 718, 659, 359, 575, 852, 600, 494, 918, 318, 637, 666, 381, 563, 946, 266, 832, 256, 163, 511, 744, 78, 349, 869, 76, 378, 301, 421, 1019, 937, 265, 350, 686, 633, 260, 539, 1048, 490, 842, 285, 897, 845, 375, 800, 862, 199, 510, 86, 724, 429, 653, 513, 58, 546, 180, 870, 740, 355, 1044, 83, 948, 757, 479, 551, 694, 682, 856, 726, 710, 12, 534, 699, 594, 240, 596]\n"
          ]
        }
      ]
    },
    {
      "cell_type": "code",
      "source": [
        "import cv2\n",
        "from google.colab.patches import cv2_imshow\n",
        "\n",
        "def P_G(test_name):\n",
        "  os.makedirs(f'/content/gdrive/MyDrive/AI競賽_運算/data/val_labeled/{test_name}')\n",
        "  for num in numlist:\n",
        "    with open(f'/content/gdrive/MyDrive/AI競賽_運算/yolov5/runs/val/{test_name}/labels/{num:08}.txt','r') as R:\n",
        "      corlis = []\n",
        "      for line in R.readlines():\n",
        "        word = line.split(' ')\n",
        "        xmin = round(float(word[1])*1716-float(word[3])*1716/2)\n",
        "        ymin = round(float(word[2])*942-float(word[4])*942/2)\n",
        "        xmax = round(float(word[1])*1716+float(word[3])*1716/2)\n",
        "        ymax = round(float(word[2])*942+float(word[4])*942/2)\n",
        "        cor = [xmin,ymax,xmax,ymin]\n",
        "        corlis.append(cor)\n",
        "\n",
        "    with open(f'/content/gdrive/MyDrive/AI競賽_運算/data/STAS_YOLOv5_PS/labels/val/{num:08}.txt','r') as RL:\n",
        "      corlisL = []\n",
        "      for line in RL.readlines():\n",
        "        wordL = line.split(' ')\n",
        "        xminL = round(float(wordL[1])*1716-float(wordL[3])*1716/2)\n",
        "        yminL = round(float(wordL[2])*942-float(wordL[4])*942/2)\n",
        "        xmaxL = round(float(wordL[1])*1716+float(wordL[3])*1716/2)\n",
        "        ymaxL = round(float(wordL[2])*942+float(wordL[4])*942/2)\n",
        "        corL = [xminL,ymaxL,xmaxL,yminL]\n",
        "        corlisL.append(corL)\n",
        "\n",
        "    img = cv2.imread(f'/content/gdrive/MyDrive/AI競賽_運算/data/STAS_YOLOv5_PS/images/val/{num:08}.jpg')\n",
        "    for cor in corlis:\n",
        "      cv2.rectangle(img, (cor[0],cor[1]), (cor[2],cor[3]),(0,0,255),2)\n",
        "    for corL in corlisL:\n",
        "      cv2.rectangle(img, (corL[0],corL[1]), (corL[2],corL[3]),(0,255,0),2)\n",
        "    cv2.imwrite(f'/content/gdrive/MyDrive/AI競賽_運算/data/val_labeled/{test_name}/{num:08}_labeled.jpg',img)"
      ],
      "metadata": {
        "id": "O3lkbGAObeBw"
      },
      "execution_count": null,
      "outputs": []
    },
    {
      "cell_type": "code",
      "source": [
        "P_G('test_for_label')"
      ],
      "metadata": {
        "id": "61JoC-zYktqK"
      },
      "execution_count": null,
      "outputs": []
    },
    {
      "cell_type": "code",
      "source": [
        "print(len(os.listdir(f'/content/gdrive/MyDrive/AI競賽_運算/data/val_labeled/test_for_label')))"
      ],
      "metadata": {
        "colab": {
          "base_uri": "https://localhost:8080/"
        },
        "id": "YEufLY5cEwbx",
        "outputId": "bca3f19b-fdf6-4606-bc8f-013719732c25"
      },
      "execution_count": null,
      "outputs": [
        {
          "output_type": "stream",
          "name": "stdout",
          "text": [
            "105\n"
          ]
        }
      ]
    }
  ]
}